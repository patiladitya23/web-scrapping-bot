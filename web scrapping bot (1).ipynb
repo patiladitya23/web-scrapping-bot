{
 "cells": [
  {
   "cell_type": "code",
   "execution_count": null,
   "id": "c0feff94",
   "metadata": {},
   "outputs": [],
   "source": [
    "# Import libraries and packages for the project \n",
    "from selenium import webdriver\n",
    "from selenium.webdriver.common.keys import Keys\n",
    "from bs4 import BeautifulSoup\n",
    "from time import sleep\n",
    "import csv\n",
    "print('- Finish importing packages')"
   ]
  },
  {
   "cell_type": "code",
   "execution_count": null,
   "id": "74a745ca",
   "metadata": {
    "scrolled": true
   },
   "outputs": [],
   "source": [
    "# Task 1: Login to Linkedin\n",
    "\n",
    "# Task 1.1: Open Chrome and Access Linkedin login site\n",
    "browser = webdriver.Chrome(executable_path =r'C:\\Users\\adity\\AppData\\Roaming\\Microsoft\\Windows\\Start Menu\\Programs\\Anaconda3 (64-bit)\\chromedriver.exe')\n",
    "sleep(2)\n",
    "browser.get(\"https://www.linkedin.com\")\n",
    "print('-Finished initializing a driver')\n",
    "sleep(2)"
   ]
  },
  {
   "cell_type": "code",
   "execution_count": null,
   "id": "83cf1a53",
   "metadata": {
    "scrolled": true
   },
   "outputs": [],
   "source": [
    "# Task 1.2: Import username and password\n",
    "\n",
    "username = browser.find_element_by_id(\"session_key\")\n",
    "user_id = input('Enter your user id')\n",
    "username.send_keys(user_id)\n",
    "password = browser.find_element_by_id(\"session_password\")\n",
    "pass_key = input('Enter your password')\n",
    "password.send_keys(pass_key)\n",
    "print('- Finish importing the login credentials')\n",
    "sleep(2)"
   ]
  },
  {
   "cell_type": "code",
   "execution_count": null,
   "id": "0068f1c6",
   "metadata": {},
   "outputs": [],
   "source": [
    "# Task 1.2: Click the Login button\n",
    "\n",
    "login_button = browser.find_element_by_class_name(\"sign-in-form__submit-button\")\n",
    "login_button.click()\n",
    "sleep(3)\n",
    "\n",
    "print('- Finish Task 1: Login to Linkedin')"
   ]
  },
  {
   "cell_type": "code",
   "execution_count": null,
   "id": "f77a42a7",
   "metadata": {},
   "outputs": [],
   "source": [
    "browser.get(\"https://www.linkedin.com/search/results/people/?geoUrn=%5B%22103671728%22%5D&keywords=cloud%20solution%20architect&origin=FACETED_SEARCH\")"
   ]
  },
  {
   "cell_type": "code",
   "execution_count": null,
   "id": "53395d7a",
   "metadata": {},
   "outputs": [],
   "source": [
    "# Task 2: Search for the profile we want to crawl\n",
    "\n",
    "# Task 2.1: Locate the search bar element\n",
    "##search_field = browser.find_element_by_xpath('//*[@class=\"search-global-typeahead__input always-show-placeholder\"]')\n",
    "# Task 2.2: Input the search query to the search bar\n",
    "##search_query = input('What profile do you want to scrape? ')\n",
    "##search_field.send_keys(search_query)"
   ]
  },
  {
   "cell_type": "code",
   "execution_count": null,
   "id": "7e050667",
   "metadata": {},
   "outputs": [],
   "source": [
    "# Task 2.3: Search\n",
    "\n",
    "#search_field.send_keys(Keys.RETURN)\n",
    "\n",
    "#print('- Finish Task 2: Search for profiles')\n"
   ]
  },
  {
   "cell_type": "code",
   "execution_count": null,
   "id": "c89d933d",
   "metadata": {},
   "outputs": [],
   "source": [
    "# Task 3: Scrape the URLs of the profiles\n",
    "\n",
    "# Task 3.1: Write a function to extract the URLs of one page\n",
    "\n",
    "def GetURL():\n",
    "    page_source = BeautifulSoup(browser.page_source)\n",
    "    profiles = page_source.find_all('a', class_ = 'app-aware-link') #('a', class_ = 'search-result__result-link ember-view')\n",
    "    all_profile_URL = []\n",
    "    for profile in profiles:\n",
    "        profile_ID = profile.get('href')\n",
    "        profile_URL = \"https://www.linkedin.com\" + profile_ID\n",
    "        profile_URL = profile.get('href')\n",
    "        if profile_URL not in all_profile_URL:\n",
    "            all_profile_URL.append(profile_URL)\n",
    "    return all_profile_URL"
   ]
  },
  {
   "cell_type": "code",
   "execution_count": null,
   "id": "4583d136",
   "metadata": {},
   "outputs": [],
   "source": [
    "\n",
    "# Task 3.2: Navigate through many page, and extract the profile URLs of each page\n",
    "\n",
    "input_page = int(input('How many pages you want to scrape: '))\n",
    "URLs_all_page = []\n",
    "for page in range(input_page):\n",
    "    URLs_one_page = GetURL()\n",
    "    sleep(2)\n",
    "    browser.execute_script('window.scrollTo(0, document.body.scrollHeight);') #scroll to the end of the page\n",
    "    sleep(3)\n",
    "    next_button = browser.find_element_by_class_name(\"artdeco-pagination__button--next\")\n",
    "    browser.execute_script(\"arguments[0].click();\", next_button)\n",
    "    URLs_all_page = URLs_all_page + URLs_one_page\n",
    "    sleep(2)\n",
    "\n",
    "print('- Finish Task 3: Scrape the URLs')"
   ]
  },
  {
   "cell_type": "code",
   "execution_count": null,
   "id": "0fc5a92b",
   "metadata": {},
   "outputs": [],
   "source": [
    "#Task 4: Scrape the data of 1 Linkedin profile, and write the data to a .CSV file\n",
    "\n",
    "with open('output.csv', 'w',  newline = '') as file_output:\n",
    "    headers = ['Name', 'Job Title', 'Location', 'URL']\n",
    "    writer = csv.DictWriter(file_output, delimiter=',', lineterminator='\\n',fieldnames=headers)\n",
    "    writer.writeheader()\n",
    "    for linkedin_URL in URLs_all_page:\n",
    "        browser.get(linkedin_URL)\n",
    "        print('- Accessing profile: ', linkedin_URL)\n",
    "        sleep(3)\n",
    "        page_source = BeautifulSoup(browser.page_source, \"html.parser\")\n",
    "        info_div = page_source.find('div',{'class':'flex-1 mr5'})\n",
    "        try:\n",
    "            name = info_div.find('li', class_='inline t-24 t-black t-normal break-words').get_text().strip() #Remove unnecessary characters \n",
    "            print('--- Profile name is: ', name)\n",
    "            location = info_div.find('li', class_='t-16 t-black t-normal inline-block').get_text().strip() #Remove unnecessary characters \n",
    "            print('--- Profile location is: ', location)\n",
    "            title = info_div.find('h2', class_='mt1 t-18 t-black t-normal break-words').get_text().strip()\n",
    "            print('--- Profile title is: ', title)\n",
    "            writer.writerow({headers[0]:name, headers[1]:location, headers[2]:title, headers[3]:linkedin_URL})\n",
    "            print('\\n')\n",
    "        except:\n",
    "            pass\n",
    "\n",
    "print('Mission Completed!')"
   ]
  },
  {
   "cell_type": "code",
   "execution_count": null,
   "id": "7ec87450",
   "metadata": {},
   "outputs": [],
   "source": [
    "with open('output.csv', 'w',  newline = '') as file_output:\n",
    "    headers = ['Name', 'Job Title', 'Location', 'URL']\n",
    "    writer = csv.DictWriter(file_output, delimiter=',', lineterminator='\\n',fieldnames=headers)\n",
    "    writer.writeheader()\n",
    "    \n",
    "    for linkedin_URL in URLs_all_page:\n",
    "         browser.get(linkedin_URL)\n",
    "         sleep(2)\n",
    "         page_source = browser.page_source\n",
    "         soup = BeautifulSoup(page_source,\"html.parser\")\n",
    "        \n",
    "        # name_div = soup.find('div',{'class':'flex-1 mr5'})\n",
    "         #name_loc = soup.find('ul')\n",
    "         #name = name_loc[0].find('li').get_text().strip()\n",
    "         #name_div = soup.find('div',{'class':'flex-1 mr5'})\n",
    "         #name_loc = name_div.find_all('h1')\n",
    "         #nm = name_loc[0]\n",
    "         #name = nm.get_text()\n",
    "         #print('  - Profile name is: ',name)\n",
    "            \n",
    "         name = info_div.find('li', class_='inline t-24 t-black t-normal break-words').get_text().strip() #Remove unnecessary characters \n",
    "         print('--- Profile name is: ', name)  \n",
    "        \n",
    "         location = name_loc[1].find('li').get_text().strip()\n",
    "         print('  - Profile location is: ',location)\n",
    "        \n",
    "         profile_title = name_div.find('h2').get_text().strip()\n",
    "         print('  - Profile title is: ',profile_title)\n",
    "         print('\\n')\n",
    "        \n",
    "writer.writerow({headers[0]:name,headers[1]:location,headers[2]:profile_title,headers[3]:linkedin_profile})\n",
    "\n",
    "print('Mission Completed!')            "
   ]
  },
  {
   "cell_type": "code",
   "execution_count": null,
   "id": "78872c7a",
   "metadata": {},
   "outputs": [],
   "source": []
  }
 ],
 "metadata": {
  "kernelspec": {
   "display_name": "Python 3 (ipykernel)",
   "language": "python",
   "name": "python3"
  },
  "language_info": {
   "codemirror_mode": {
    "name": "ipython",
    "version": 3
   },
   "file_extension": ".py",
   "mimetype": "text/x-python",
   "name": "python",
   "nbconvert_exporter": "python",
   "pygments_lexer": "ipython3",
   "version": "3.9.7"
  }
 },
 "nbformat": 4,
 "nbformat_minor": 5
}
